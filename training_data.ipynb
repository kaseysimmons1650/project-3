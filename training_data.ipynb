{
 "cells": [
  {
   "cell_type": "code",
   "execution_count": null,
   "metadata": {},
   "outputs": [
    {
     "ename": "",
     "evalue": "",
     "output_type": "error",
     "traceback": [
      "\u001b[1;31mFailed to start the Kernel. \n",
      "\u001b[1;31mUnable to start Kernel 'Python 3.12.3' due to a timeout waiting for the ports to get used. \n",
      "\u001b[1;31mView Jupyter <a href='command:jupyter.viewOutput'>log</a> for further details."
     ]
    }
   ],
   "source": [
    "import pandas as pd\n",
    "import numpy as np\n",
    "import seaborn as sns\n",
    "import matplotlib.pyplot as plt\n",
    "from sklearn.preprocessing import OneHotEncoder\n",
    "\n",
    "data = pd.read_csv('troop_movements.csv')\n",
    "#print(data.head())\n",
    "\n",
    "empire_or_resistance = data.groupby(\"empire_or_resistance\").count()\n",
    "columns_to_remove = ['timestamp', 'unit_id', 'unit_type', 'location_x', 'location_y','destination_x', 'destination_y']\n",
    "df_filtered = empire_or_resistance.drop(columns=columns_to_remove)\n",
    "empire_res_count = df_filtered.rename(columns={'homeworld': 'count', 'empire_or_resistance': 'test'})\n",
    "\n",
    "#final empire / res count\n",
    "print(empire_res_count)\n",
    "\n",
    "\n",
    "#print(len(data))\n",
    "data[\"is_resistance\"] = data[\"empire_or_resistance\"].apply(lambda x: True if x == \"resistance\" else False)"
   ]
  },
  {
   "cell_type": "code",
   "execution_count": null,
   "metadata": {},
   "outputs": [],
   "source": [
    "# Create a bar graph to show empire vs resistance distribution\n",
    "\n",
    "import seaborn as sns\n",
    "import matplotlib.pyplot as plt\n",
    "import matplotlib.ticker as ticker\n",
    "\n",
    "# Count the occurrences of each value in the \"empire_or_resistance\" column\n",
    "empire_resistance_counts = df['empire_or_resistance'].value_counts()\n",
    "\n",
    "# Create the bar plot using seaborn\n",
    "sns.barplot(x=empire_resistance_counts.index, y=empire_resistance_counts.values)\n",
    "\n",
    "# Set the y-axis limits and tick format\n",
    "plt.ylim(0, 1000)\n",
    "plt.gca().yaxis.set_major_formatter(ticker.StrMethodFormatter('{x:,.0f}'))\n",
    "\n",
    "\n",
    "# Set labels and title\n",
    "plt.xlabel('Empire or Resistance')\n",
    "plt.ylabel('Count')\n",
    "plt.title('Character Count by Empire or Resistance')\n",
    "\n",
    "# Display the plot\n",
    "plt.show()"
   ]
  }
 ],
 "metadata": {
  "kernelspec": {
   "display_name": "Python 3",
   "language": "python",
   "name": "python3"
  },
  "language_info": {
   "name": "python",
   "version": "3.12.3"
  }
 },
 "nbformat": 4,
 "nbformat_minor": 2
}
